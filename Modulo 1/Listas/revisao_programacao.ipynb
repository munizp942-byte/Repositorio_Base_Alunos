{
 "cells": [
  {
   "cell_type": "markdown",
   "metadata": {},
   "source": [
    "# Revisão de Programação em Python\n",
    "## Alunos da Rede Pública Municipal de Santana de Parnaíba inscritos na Fábrica de Programadores!\n",
    "\n",
    "Neste notebook, vamos revisar os conceitos aprendidos:\n",
    "- Variáveis e tipos básicos 😁\n",
    "- Listas 📋\n",
    "- Estruturas condicionais (if, elif, else) ⬅️➡️\n",
    "- Casting 🫠\n",
    "- Funções 📐\n",
    "- Escopo (global, local) 🌍🏠\n",
    "- Composição ➗\n",
    "- Loops (while, for) 🌀\n",
    "- Lógica básica de programação 🧠\n",
    "\n",
    "Responda todos os exercícios utilizando composição!"
   ]
  },
  {
   "cell_type": "markdown",
   "metadata": {},
   "source": [
    "## Exercício 1: Variáveis e Tipos Básicos"
   ]
  },
  {
   "cell_type": "code",
   "execution_count": null,
   "metadata": {},
   "outputs": [
    {
     "name": "stdout",
     "output_type": "stream",
     "text": [
      "Nome: pyetra\n",
      "idade: 15\n",
      "altura: 1.6\n",
      "gosta de programar: False\n"
     ]
    }
   ],
   "source": [
    "# 1. Declare variáveis para armazenar:\n",
    "#    - Seu nome (string)\n",
    "#    - Sua idade (int)\n",
    "#    - Sua altura em metros (float)\n",
    "#    - Se você gosta de programar (True, False)\n",
    "#    - Depois, imprima cada uma dessas variáveis\n",
    "\n",
    "# Seu código aqui\n",
    "nome = \"pyetra\"\n",
    "idade = 15\n",
    "altura = 1.60\n",
    "gosta_programar = False\n",
    "\n",
    "print(\"Nome\", nome)\n",
    "print(\"idade\", idade)\n",
    "print(\"altura\", altura)\n",
    "print(\"gosta de programar\", gosta_programar)\n"
   ]
  },
  {
   "cell_type": "markdown",
   "metadata": {},
   "source": [
    "## Exercício 2: Operações com Listas"
   ]
  },
  {
   "cell_type": "code",
   "execution_count": null,
   "metadata": {},
   "outputs": [
    {
     "name": "stdout",
     "output_type": "stream",
     "text": [
      "lista completa: ['amora', 'abacate', 'uva', 'pera', 'maça']\n",
      "primeira fruta: a\n",
      "ultima fruta: a\n",
      "lista apos adicionar uma fruta\n"
     ]
    },
    {
     "ename": "ValueError",
     "evalue": "list.remove(x): x not in list",
     "output_type": "error",
     "traceback": [
      "\u001b[31m---------------------------------------------------------------------------\u001b[39m",
      "\u001b[31mValueError\u001b[39m                                Traceback (most recent call last)",
      "\u001b[36mCell\u001b[39m\u001b[36m \u001b[39m\u001b[32mIn[3]\u001b[39m\u001b[32m, line 14\u001b[39m\n\u001b[32m     12\u001b[39m frutas.append(\u001b[32m60\u001b[39m)\n\u001b[32m     13\u001b[39m \u001b[38;5;28mprint\u001b[39m(\u001b[33m\"\u001b[39m\u001b[33mlista apos adicionar uma fruta\u001b[39m\u001b[33m\"\u001b[39m)\n\u001b[32m---> \u001b[39m\u001b[32m14\u001b[39m \u001b[43mfrutas\u001b[49m\u001b[43m.\u001b[49m\u001b[43mremove\u001b[49m\u001b[43m(\u001b[49m\u001b[32;43m30\u001b[39;49m\u001b[43m)\u001b[49m\n\u001b[32m     15\u001b[39m \u001b[38;5;28mprint\u001b[39m(\u001b[33m\"\u001b[39m\u001b[33mlista apos rermover a uva\u001b[39m\u001b[33m\"\u001b[39m)\n\u001b[32m     16\u001b[39m \u001b[38;5;28mprint\u001b[39m(\u001b[33m\"\u001b[39m\u001b[33mtamanho da lista:\u001b[39m\u001b[33m\"\u001b[39m, \u001b[38;5;28mlen\u001b[39m(frutas))\n",
      "\u001b[31mValueError\u001b[39m: list.remove(x): x not in list"
     ]
    }
   ],
   "source": [
    "# 2. Declare uma lista chamada 'frutas' com 5 frutas diferentes\n",
    "#    - Adicione uma nova fruta no final da lista\n",
    "#    - Remova a segunda fruta da lista\n",
    "#    - Imprima a lista resultante\n",
    "#    - Imprima apenas a terceira fruta da lista\n",
    "\n",
    "# Seu código aqui\n",
    "frutas = [\"amora\", \"abacate\", \"uva\", \"pera\", \"maça\"]\n",
    "print(\"lista\", frutas)\n",
    "\n"
   ]
  },
  {
   "cell_type": "markdown",
   "metadata": {},
   "source": [
    "## Exercício 3: Funções, Escopo e Tipos de Dados"
   ]
  },
  {
   "cell_type": "code",
   "execution_count": null,
   "metadata": {},
   "outputs": [],
   "source": [
    "# 3. Defina uma função chamada calcular_dobro que recebe um número inteiro como parâmetro.\n",
    "#    - Dentro da função, calcule o dobro desse número e atribua o resultado a uma variável local chamada resultado_dobro.\n",
    "#    - A função deve retornar resultado_dobro.\n",
    "#    - Fora da função, invoque a função com o número 7 e atribua o valor retornado a uma variável global chamada meu_dobro.\n",
    "#    - Imprima o valor de meu_dobro.\n",
    "\n",
    "# Seu código aqui\n",
    "def calcular_dobro(numero):\n",
    "    resultado_dobro = numero * 2\n",
    "    return resultado_dobro\n",
    "resultado_dobro = calcular_dobro(8)\n",
    "print(\"o dobro de 8 é\", resultado_dobro)\n",
    "\n"
   ]
  },
  {
   "cell_type": "markdown",
   "metadata": {},
   "source": [
    "## Exercício 4: Estruturas Condicionais (if, else)"
   ]
  },
  {
   "cell_type": "code",
   "execution_count": null,
   "metadata": {},
   "outputs": [],
   "source": [
    "# 4. Crie um programa que verifica se um número é positivo, negativo ou zero\n",
    "#    - Peça para o usuário digitar um número\n",
    "#    - Use if, elif e else para verificar o número\n",
    "#    - Imprima o resultado\n",
    "\n",
    "# Seu código aqui\n",
    "numero = int(input(\"digite um numero\"))\n",
    "if numero > 0:\n",
    "    print(\"o numero é positivo\")\n",
    "elif numero < 0:\n",
    "    print(\"o numero é negativo\")\n",
    "else:\n",
    "    print(\"o numero é zero\")"
   ]
  },
  {
   "cell_type": "markdown",
   "metadata": {},
   "source": [
    "## Exercício 5: Loop While"
   ]
  },
  {
   "cell_type": "code",
   "execution_count": null,
   "metadata": {},
   "outputs": [],
   "source": [
    "# 5. Crie um contador regressivo de 5 até 1 usando while\n",
    "#    - A cada iteração, imprima o número atual\n",
    "#    - Quando chegar a 1, imprima \"Fogo!\"\n",
    "\n",
    "# Seu código aqui\n",
    "contador = 5\n",
    "while contador >= 1:\n",
    "    if contador == 1:\n",
    "        print(\"fogo!\")\n",
    "    else:\n",
    "        print(\"contador\")\n",
    "    contador =- 1"
   ]
  },
  {
   "cell_type": "markdown",
   "metadata": {},
   "source": [
    "## Exercício 6: Loop For"
   ]
  },
  {
   "cell_type": "code",
   "execution_count": null,
   "metadata": {},
   "outputs": [],
   "source": [
    "# 6. Crie um programa que calcula a média de 5 notas usando for\n",
    "#    - Peça para o usuário digitar 5 notas\n",
    "#    - Use um loop for para somar as notas\n",
    "#    - Calcule e imprima a média\n",
    "\n",
    "# Seu código aqui\n",
    "soma = 0\n",
    "for v in (1, 6):\n",
    "    nota = float(input(f\"digite a nota\"))\n",
    "    soma += nota\n",
    "print(soma)\n",
    "print(\"media / 5\")\n",
    "\n"
   ]
  },
  {
   "cell_type": "markdown",
   "metadata": {},
   "source": [
    "## Exercício 7: Escopo Global e Local"
   ]
  },
  {
   "cell_type": "code",
   "execution_count": null,
   "metadata": {},
   "outputs": [],
   "source": [
    "# 7. Defina uma variável global chamada saldo_inicial com o valor 1000.50 (tipo float).\n",
    "#    - Crie uma função chamada depositar que recebe um valor_deposito (float) como parâmetro.\n",
    "#    - Dentro da função depositar, adicione o valor_deposito ao saldo_inicial. Lembre-se de usar a palavra-chave global para modificar a variável global.\n",
    "#    - Fora da função, chame depositar com o valor 250.75.\n",
    "#    - Após a chamada da função, imprima o valor atualizado de saldo_inicial.\n",
    "\n",
    "# Seu código aqui\n",
    "saldo_inicial = 1000.50\n",
    "def depositar(valor_deposito):\n",
    "    saldo_inicial\n",
    "    saldo_inicial += valor_deposito\n",
    "    depositar(250.75) \n",
    "    print(\"saldo atualizado:\", saldo_inicial)"
   ]
  },
  {
   "cell_type": "markdown",
   "metadata": {},
   "source": [
    "## Exercício 8: Listas e Loops"
   ]
  },
  {
   "cell_type": "code",
   "execution_count": null,
   "metadata": {},
   "outputs": [],
   "source": [
    "# 8. Crie uma lista de números de 1 a 10\n",
    "#    - Use um loop for para imprimir apenas os números pares\n",
    "#    - Depois, crie uma nova lista com os números ímpares\n",
    "#    - Imprima a lista de ímpares\n",
    "\n",
    "# Seu código aqui\n",
    "números = list((1, 10))\n",
    "print(\"números pares:\")\n",
    "for v in números:\n",
    "    if v 2 % == 0:\n",
    "        print(v)\n",
    "impares = []\n",
    "for v in números:\n",
    "    if v 2 % =0:\n",
    "     print(\"lista de impares:\", impares)\n",
    "    \n",
    "    "
   ]
  },
  {
   "cell_type": "markdown",
   "metadata": {},
   "source": [
    "## Exercício 9: Jogo de Adivinhação"
   ]
  },
  {
   "cell_type": "code",
   "execution_count": null,
   "metadata": {},
   "outputs": [],
   "source": [
    "# 9. Crie um jogo de adivinhação onde:\n",
    "#    - O computador escolhe um número aleatório entre 1 e 10\n",
    "#    - O jogador tem 3 tentativas para adivinhar o número\n",
    "#    - A cada tentativa, diga se o palpite é maior ou menor que o número secreto\n",
    "#    - Se acertar, imprima \"Parabéns!\" e encerre o jogo\n",
    "#    - Se errar todas as tentativas, imprima o número correto\n",
    "\n",
    "# Seu código aqui\n",
    "import random\n",
    "numero_secreto = random.randint(1, 10)\n",
    "tentativas = 3\n",
    "for v in range(tentativas):\n",
    "    palpite = int(input(tentativas))\n",
    "print \n",
    "                        "
   ]
  },
  {
   "cell_type": "markdown",
   "metadata": {},
   "source": [
    "## Exercício 10: Desafio Final"
   ]
  },
  {
   "cell_type": "code",
   "execution_count": null,
   "metadata": {},
   "outputs": [],
   "source": [
    "# 10. Crie um programa que:\n",
    "#    - Pede para o usuário digitar o seu próprio peso em Kgs.\n",
    "#    - Depois, pede ao usuário que digite sua altura em metros.\n",
    "#    - Em terceiro, pede ao usuário que digite seu nome e idade.\n",
    "#    - Adiciona os dados digitados ao final de uma lista (utilizando a função .append()).\n",
    "#    - Calcule o índice de massa corpórea (IMC) do indivíduo de acordo com a fórmula do IMC pesquisada.    \n",
    "#    - Após calcular, registre: Classificação do IMC de acordo com a OMS:\n",
    "#    - < 16         Magreza grave (grau III)\n",
    "#    - 16 a 16,9    Magreza moderada (grau II)\n",
    "#    - 17 a 18,4    Magreza leve (grau I)\n",
    "#    - 18,5 a 24,9  Eutrofia (estado nutricional adequado)\n",
    "#    - 25 a 29,9    Pré-obesidade\n",
    "#    - 30 a 34,9    Obesidade moderada (grau I)\n",
    "#    - 35 a 39,9    Obesidade severa (grau II)\n",
    "#    - >= 40        Obesidade muito severa (grau III)\n",
    "#    - Finalmente, em ordem alfabética (utilizando a função .sort()), exiba todos os itens da lista ao lado de seus dados, seu IMC e sua respectiva classificação.\n",
    "\n",
    "# Seu código aqui\n",
    "float(peso_kgs)\n",
    "float(altura_metros)\n",
    "float(nome_idade)\n",
    "append()"
   ]
  },
  {
   "cell_type": "markdown",
   "metadata": {},
   "source": [
    "## Parabéns por completar os exercícios! 🥳\n",
    "### Continue praticando e explorando os conceitos de programação."
   ]
  }
 ],
 "metadata": {
  "kernelspec": {
   "display_name": "Python 3",
   "language": "python",
   "name": "python3"
  },
  "language_info": {
   "codemirror_mode": {
    "name": "ipython",
    "version": 3
   },
   "file_extension": ".py",
   "mimetype": "text/x-python",
   "name": "python",
   "nbconvert_exporter": "python",
   "pygments_lexer": "ipython3",
   "version": "3.13.2"
  }
 },
 "nbformat": 4,
 "nbformat_minor": 4
}
